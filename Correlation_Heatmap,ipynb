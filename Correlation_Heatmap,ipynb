top_features = corr_table['Feature'].head(10).tolist() + ['charges']
sub_corr = corr_matrix.loc[top_features, top_features]

plt.figure(figsize=(8,6))
sns.heatmap(sub_corr, annot=True, fmt=".2f", cmap="coolwarm")
plt.title("Correlation Heatmap (Top Features vs Charges)")
plt.tight_layout()
plt.show()
