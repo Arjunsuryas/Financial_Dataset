residuals = y - y_pred_cv
plt.figure(figsize=(7,5))
plt.scatter(y_pred_cv, residuals, alpha=0.6)
plt.axhline(0, linestyle='--', color='black')
plt.xlabel("Predicted Charges (CV)")
plt.ylabel("Residuals (Actual - Predicted)")
plt.title("Residuals vs Predicted Charges (5-Fold CV)")
plt.tight_layout()
plt.show()
