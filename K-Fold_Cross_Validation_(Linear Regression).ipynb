k = 5
kf = KFold(n_splits=k, shuffle=True, random_state=42)
model = LinearRegression()

r2_scores = cross_val_score(model, X_scaled, y, cv=kf, scoring='r2')
mae_scores = -cross_val_score(model, X_scaled, y, cv=kf, scoring='neg_mean_absolute_error')

y_pred_cv = cross_val_predict(model, X_scaled, y, cv=kf)
overall_r2 = r2_score(y, y_pred_cv)
overall_mae = mean_absolute_error(y, y_pred_cv)

cv_table = pd.DataFrame({
    'Fold': np.arange(1, k+1),
    'R²': r2_scores,
    'MAE': mae_scores
})

cv_summary = pd.DataFrame({
    'Metric': ['Mean R²', 'Std R²', 'Mean MAE', 'Std MAE', 'Overall R² (CV)', 'Overall MAE (CV)'],
    'Value': [r2_scores.mean(), r2_scores.std(), mae_scores.mean(), mae_scores.std(), overall_r2, overall_mae]
})

display(cv_table)
display(cv_summary)
